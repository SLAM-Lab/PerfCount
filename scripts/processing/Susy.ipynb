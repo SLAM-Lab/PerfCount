{
 "cells": [
  {
   "cell_type": "code",
   "execution_count": null,
   "metadata": {},
   "outputs": [],
   "source": [
    "import sys\n",
    "import os\n",
    "import pandas as pd\n",
    "sys.path.append('../')\n",
    "from utils.traces import get_df_without_per_core\n",
    "\n",
    "os.listdir('../../')\n",
    "\n",
    "trace_location = \"/Users/matthewbarondeau/Documents/archive_research/Dataset/x86_desktop_homogeneous/3.0GHz/\"\n",
    "output_location = \"/Users/matthewbarondeau/Work/proactive-runtime/Data/x86_desktop_homogeneous/\"\n",
    "\n",
    "three_ghz_files = [  \n",
    "                    'x86_desktop_homogeneous_3.0GHz_500_0',\n",
    "                    'x86_desktop_homogeneous_3.0GHz_502_0',\n",
    "                    'x86_desktop_homogeneous_3.0GHz_505_0',\n",
    "                    'x86_desktop_homogeneous_3.0GHz_520_0',\n",
    "                    'x86_desktop_homogeneous_3.0GHz_523_0',\n",
    "                    'x86_desktop_homogeneous_3.0GHz_525_0',\n",
    "                    'x86_desktop_homogeneous_3.0GHz_531_0',\n",
    "                    'x86_desktop_homogeneous_3.0GHz_541_0',\n",
    "                    'x86_desktop_homogeneous_3.0GHz_548_0',\n",
    "                    'x86_desktop_homogeneous_3.0GHz_557_0',\n",
    "                    'x86_desktop_homogeneous_3.0GHz_503_0',\n",
    "                    'x86_desktop_homogeneous_3.0GHz_507_0',\n",
    "                    'x86_desktop_homogeneous_3.0GHz_508_0',\n",
    "                    'x86_desktop_homogeneous_3.0GHz_510_0',\n",
    "                    'x86_desktop_homogeneous_3.0GHz_511_0',\n",
    "                    'x86_desktop_homogeneous_3.0GHz_519_0',\n",
    "                    'x86_desktop_homogeneous_3.0GHz_521_0',\n",
    "                    'x86_desktop_homogeneous_3.0GHz_527_0',\n",
    "                    'x86_desktop_homogeneous_3.0GHz_538_0',\n",
    "                    'x86_desktop_homogeneous_3.0GHz_544_0',\n",
    "                    'x86_desktop_homogeneous_3.0GHz_549_0',\n",
    "                    'x86_desktop_homogeneous_3.0GHz_554_0'\n",
    "                 ]\n",
    "for file in three_ghz_files:\n",
    "    file_name = trace_location + file\n",
    "    df = get_df_without_per_core(file_name)\n",
    "    output_name = output_location + file + '.csv'\n",
    "    df.to_csv(output_name, index=False)"
   ]
  },
  {
   "cell_type": "code",
   "execution_count": null,
   "metadata": {},
   "outputs": [],
   "source": []
  },
  {
   "cell_type": "code",
   "execution_count": null,
   "metadata": {},
   "outputs": [],
   "source": []
  },
  {
   "cell_type": "code",
   "execution_count": null,
   "metadata": {},
   "outputs": [],
   "source": []
  }
 ],
 "metadata": {
  "kernelspec": {
   "display_name": ".venv",
   "language": "python",
   "name": ".venv"
  },
  "language_info": {
   "codemirror_mode": {
    "name": "ipython",
    "version": 3
   },
   "file_extension": ".py",
   "mimetype": "text/x-python",
   "name": "python",
   "nbconvert_exporter": "python",
   "pygments_lexer": "ipython3",
   "version": "3.12.7"
  }
 },
 "nbformat": 4,
 "nbformat_minor": 4
}

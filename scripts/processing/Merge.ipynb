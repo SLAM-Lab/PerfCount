{
 "cells": [
  {
   "cell_type": "code",
   "execution_count": 2,
   "id": "ef06405c-a042-4679-80e9-2a4bdafeb5d9",
   "metadata": {},
   "outputs": [],
   "source": [
    "import pandas as pd          \n",
    "\n",
    "in_order_files     = ['InO_500.csv', 'InO_502.csv', 'InO_505.csv', 'InO_520.csv', 'InO_523.csv', 'InO_525.csv', 'InO_531.csv', 'InO_541.csv', 'InO_548.csv', 'InO_557.csv', 'InO_503.csv', 'InO_507.csv', 'InO_508.csv','InO_510.csv','InO_511.csv','InO_519.csv','InO_521.csv','InO_526.csv','InO_527.csv','InO_538.csv','InO_544.csv', 'InO_549.csv','InO_554.csv']\n",
    "out_of_order_files = ['OOO_500.csv', 'OOO_502.csv', 'OOO_505.csv', 'OOO_520.csv', 'OOO_523.csv', 'OOO_525.csv', 'OOO_531.csv', 'OOO_541.csv', 'OOO_548.csv', 'OOO_557.csv', 'OOO_503.csv', 'OOO_507.csv', 'OOO_508.csv','OOO_510.csv','OOO_511.csv','OOO_519.csv','OOO_521.csv','OOO_526.csv','OOO_527.csv','OOO_538.csv','OOO_544.csv', 'OOO_549.csv','OOO_554.csv']\n",
    "file_names         = ['500.csv', '502.csv', '505.csv', '520.csv', '523.csv', '525.csv', '531.csv', '541.csv', '548.csv', '557.csv', '503.csv', '507.csv', '508.csv', '510.csv', '511.csv', '519.csv', '521.csv', '526.csv', '527.csv', '538.csv', '544.csv', '549.csv', '554.csv']\n",
    "\n",
    "for csv in range(0,len(in_order_files)):\n",
    "    df1 = pd.read_csv('inst_aligned/' + in_order_files[csv])\n",
    "    df1 = df1.apply(pd.to_numeric,errors='coerce').fillna(0)\n",
    "    df1.insert(0,'core', 0)\n",
    "    df1 = df1.reset_index(drop=True)\n",
    "    \n",
    "    df2 = pd.read_csv('inst_aligned/' + out_of_order_files[csv])\n",
    "    df2 = df2.apply(pd.to_numeric,errors='coerce').fillna(0)\n",
    "    df2.insert(0,'core', 1)\n",
    "    df2 = df2.reset_index(drop=True)\n",
    "\n",
    "    df1.to_csv('in_order_test.csv', index=False)\n",
    "    df2.to_csv('out_of_order_test.csv', index=False)\n",
    "\n",
    "    df3 = pd.concat([df1,df2], ignore_index=True, sort=False)\n",
    "    df3 = df3.reset_index(drop=True)\n",
    "    df3.to_csv('inst_aligned/' + file_names[csv], index=False)\n"
   ]
  },
  {
   "cell_type": "code",
   "execution_count": null,
   "id": "0a386dfc-4778-44c1-8c66-802373a06aa3",
   "metadata": {},
   "outputs": [],
   "source": []
  }
 ],
 "metadata": {
  "kernelspec": {
   "display_name": ".venv",
   "language": "python",
   "name": ".venv"
  },
  "language_info": {
   "codemirror_mode": {
    "name": "ipython",
    "version": 3
   },
   "file_extension": ".py",
   "mimetype": "text/x-python",
   "name": "python",
   "nbconvert_exporter": "python",
   "pygments_lexer": "ipython3",
   "version": "3.12.7"
  }
 },
 "nbformat": 4,
 "nbformat_minor": 5
}

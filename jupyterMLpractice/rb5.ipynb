{
 "cells": [
  {
   "cell_type": "code",
   "execution_count": 1,
   "id": "1388074c-89b5-49f1-9161-aa8514b8633f",
   "metadata": {},
   "outputs": [],
   "source": [
    "import pandas as pd \n",
    "import matplotlib.pyplot as plt        \n",
    "from sklearn.model_selection import train_test_split  \n",
    "from sklearn.ensemble import RandomForestRegressor, GradientBoostingRegressor, VotingRegressor  \n",
    "from sklearn.metrics import r2_score    \n",
    "import math"
   ]
  },
  {
   "cell_type": "raw",
   "id": "6906815c-b921-4b33-97a4-373ceceeca9d",
   "metadata": {},
   "source": [
    "Heres the code with overlap (crazy high r^2) but likely wrong "
   ]
  },
  {
   "cell_type": "code",
   "execution_count": 2,
   "id": "b5510ff4-7fe1-4b83-9d19-c3b40bff88fa",
   "metadata": {
    "scrolled": true
   },
   "outputs": [],
   "source": [
    "# def process_csv_feautures(file_paths):\n",
    "#     all_features = []\n",
    "#     for file_path in file_paths:\n",
    "#         df = pd.read_csv(file_path)\n",
    "#         df = df.apply(pd.to_numeric, errors='coerce').fillna(0)\n",
    "#         instruction_sum = df['instruction'].sum()\n",
    "#         inst_per_chunk = int(math.ceil(instruction_sum * 0.0001))\n",
    "#         inst_chunk_num = 0\n",
    "#         inst_chunk_end = inst_chunk_num * inst_per_chunk\n",
    "#         chunk_inst_value = 0\n",
    "#         chunk_cycle_value = 0\n",
    "#         ipc = 0\n",
    "#         chunk_inst_retire_value = 0\n",
    "#         chunk_br_retire_value = 0;\n",
    "#         chunk_l1d_cache_refil_value =0\n",
    "#         features = []\n",
    "#         for start_row in range(0, len(df)):\n",
    "#             chunk = df.iloc[start_row:start_row + 1]\n",
    "#             chunk_inst_value += chunk['instruction'].sum()\n",
    "#             chunk_cycle_value += chunk['cpu-cycle'].sum()\n",
    "#             chunk_inst_retire_value += chunk['armv8_pmuv3/inst_retire'].sum()\n",
    "#             chunk_br_retire_value += chunk['armv8_pmuv3/br_retire'].sum()\n",
    "#             chunk_l1d_cache_refil_value += chunk['armv8_pmuv3/l1d_cache_refil'].sum()\n",
    "            \n",
    "#             if chunk_inst_value >= inst_chunk_end:\n",
    "#                 if chunk_cycle_value != 0:\n",
    "#                     ipc = chunk_inst_value / chunk_cycle_value\n",
    "#                 else:\n",
    "#                     ipc = 0 \n",
    "#                 features.append([chunk_br_retire_value, chunk_inst_retire_value, chunk_l1d_cache_refil_value, ipc])\n",
    "#                 chunk_inst_value = 0\n",
    "#                 chunk_cycle_value = 0\n",
    "#                 chunk_inst_retire_value = 0\n",
    "#                 chunk_l1d_cache_refil_value = 0\n",
    "#                 chunk_br_retire_value = 0\n",
    "#                 inst_chunk_num += 1\n",
    "#                 inst_chunk_end = inst_chunk_num * inst_per_chunk\n",
    "#         all_features.extend(features)\n",
    "#     return all_features\n",
    "\n",
    "\n",
    "# def process_csv_ipc(file_paths):\n",
    "#     all_ipc_values = []\n",
    "\n",
    "#     for file_path in file_paths:\n",
    "#         df = pd.read_csv(file_path)\n",
    "        \n",
    "#         # Replace all non-numeric values with 0\n",
    "#         df = df.apply(pd.to_numeric, errors='coerce').fillna(0)\n",
    "        \n",
    "#         # Calculate the number of instructions for 0.1%\n",
    "#         instruction_sum = df['instruction'].sum()\n",
    "#         inst_per_chunk = int(math.ceil(instruction_sum * 0.0001))\n",
    "\n",
    "#         inst_chunk_num = 0\n",
    "#         inst_chunk_end = inst_chunk_num * inst_per_chunk\n",
    "#         chunk_inst_value = 0\n",
    "#         chunk_cycle_value = 0\n",
    "#         ipc = 0\n",
    "\n",
    "#         ipc_values = []\n",
    "#         instruction_sums = []\n",
    "#         cpu_cycle_sums = []\n",
    "\n",
    "#         for start_row in range(0, len(df)):\n",
    "#             end_row = min(start_row + 1, len(df))\n",
    "#             chunk = df.iloc[start_row:end_row]\n",
    "#             chunk_inst_value += chunk['instruction'].sum()\n",
    "#             chunk_cycle_value += chunk['cpu-cycle'].sum()\n",
    "\n",
    "#             if chunk_inst_value >= inst_chunk_end:\n",
    "#                 # Save instruction and cpu cycle counts\n",
    "#                 instruction_sums.append(chunk_inst_value)\n",
    "#                 cpu_cycle_sums.append(chunk_cycle_value)\n",
    "\n",
    "#                 # Calculate IPC\n",
    "#                 if chunk_cycle_value != 0:\n",
    "#                     ipc = chunk_inst_value / chunk_cycle_value\n",
    "#                 else:\n",
    "#                     ipc = 0 \n",
    "#                 ipc_values.append(ipc)\n",
    "                \n",
    "#                 chunk_inst_value = 0\n",
    "#                 chunk_cycle_value = 0\n",
    "#                 inst_chunk_num += 1\n",
    "#                 inst_chunk_end = inst_chunk_num * inst_per_chunk\n",
    "                \n",
    "#         all_ipc_values.append(ipc_values)\n",
    "#     return all_ipc_values\n",
    "\n",
    "# # in_order_files = ['In Order 500.csv', 'In Order 502.csv', 'In Order 503.csv','In Order 505.csv', 'In Order 520.csv', 'In Order 523.csv', 'In Order 519.csv']\n",
    "# # out_of_order_files = ['OO 500.csv', 'OO 502.csv', 'OO 503.csv', 'OO 505.csv', 'OO 520.csv', 'OO 523.csv', 'OO 519.csv']\n",
    "\n",
    "# in_order_files = ['In Order 500.csv']\n",
    "# out_of_order_files =['OO 500.csv']\n",
    "\n",
    "# in_order_hardware_counters_features = process_csv_feautures(in_order_files)\n",
    "# out_of_order_ipc = process_csv_ipc(out_of_order_files)\n",
    "# out_of_order_flat = [item for sublist in out_of_order_ipc for item in sublist]\n",
    "\n",
    "# data = {\n",
    "#     'In Order': in_order_hardware_counters_features,\n",
    "#     'Out of Order': out_of_order_flat\n",
    "# }\n",
    "# ipc_df = pd.DataFrame(data)\n",
    "\n",
    "# # separate features and target\n",
    "# X = pd.DataFrame(in_order_hardware_counters_features, columns=['armv8_pmuv3/inst_retire', 'armv8_pmuv3/br_retire', 'armv8_pmuv3/l1d_cache_refil', 'ipc'])  # Features\n",
    "# y = pd.Series(out_of_order_flat)  \n",
    "\n",
    "\n",
    "# # split \n",
    "# X_train, X_test, y_train, y_test = train_test_split(X, y, test_size=0.2, random_state=42)\n",
    "\n",
    "# rf_model = RandomForestRegressor(n_estimators=100)\n",
    "# gb_model = GradientBoostingRegressor(n_estimators=100)\n",
    "# ensemble_model = VotingRegressor([('rf', rf_model), ('gb', gb_model)])\n",
    "# ensemble_model.fit(X_train, y_train)\n",
    "# ensemble_predictions = ensemble_model.predict(X_test)\n",
    "# # Calculate R²\n",
    "# ensemble_r2 = r2_score(y_test, ensemble_predictions)\n",
    "# print(f\"Ensemble R² value: {ensemble_r2}\")\n",
    "\n",
    "\n",
    "# #bruh wut\n",
    "# train_predictions = ensemble_model.predict(X_train)\n",
    "# test_predictions = ensemble_model.predict(X_test)\n",
    "\n",
    "# # Calculate R² for training and testing sets\n",
    "# train_r2 = r2_score(y_train, train_predictions)\n",
    "# test_r2 = r2_score(y_test, test_predictions)\n",
    "\n",
    "# print(f\"Training R²: {train_r2}\")\n",
    "# print(f\"Testing R²: {test_r2}\")\n",
    "\n",
    "\n",
    "# # Create a DataFrame for Actual and Predicted values\n",
    "# results_df = pd.DataFrame({\n",
    "#     'In Order IPC': X_test['ipc'],\n",
    "#     'L1D Cache Refil Value': X_test['armv8_pmuv3/l1d_cache_refil'],\n",
    "#     'Inst Retire': X_test['armv8_pmuv3/inst_retire'],\n",
    "#     'Branch Retire': X_test['armv8_pmuv3/br_retire'],\n",
    "#     'Out of Order IPC (Actual)': y_test,\n",
    "#     'Out of Order IPC (Predicted)': ensemble_predictions\n",
    "# })\n",
    "\n",
    "# results_df.to_csv('predicted_vs_actual.csv', index=False)\n",
    "# print(\"Predicted vs Actual values have been written to 'predicted_vs_actual.csv'.\")\n"
   ]
  },
  {
   "cell_type": "raw",
   "id": "a5096ed6-3621-472f-9f1f-887451b7a992",
   "metadata": {},
   "source": [
    "Use aligned csv"
   ]
  },
  {
   "cell_type": "code",
   "execution_count": 3,
   "id": "3fe8a3a5-0810-4fe4-9687-57fa2c9d8d44",
   "metadata": {},
<<<<<<< HEAD
   "outputs": [],
   "source": [
    "# def process_csv_feautures(file_paths):\n",
    "#     all_features = []\n",
    "#     for file_path in file_paths:\n",
    "#         df = pd.read_csv(file_path)\n",
    "#         df = df.apply(pd.to_numeric, errors='coerce').fillna(0)\n",
    "#         features = []\n",
    "#         for index, row in df.iterrows():\n",
    "#             inst = row['instruction']\n",
    "#             cyc = row['cpu-cycle']\n",
    "#             ipc = inst/cyc\n",
    "#             features.append([row['armv8_pmuv3/stall_backen'], row['armv8_pmuv3/br_mis_pre'], row['armv8_pmuv3/l2d_cache_refil'], row['armv8_pmuv3/l1i_cache_refil'], row['armv8_pmuv3/br_retire'], row['armv8_pmuv3/inst_retire'], row['armv8_pmuv3/l1d_cache_refil'], ipc])\n",
=======
   "outputs": [
    {
     "name": "stderr",
     "output_type": "stream",
     "text": [
      "/var/folders/6n/ftw0wdbd5m75711ncfzt7rlh0000gn/T/ipykernel_73549/372009823.py:14: DtypeWarning: Columns (1,2,3,4,5,6,7,8,9,10,11,12,13,14,15,16,17,18,19,20,21,22,23,24,25,26,27,28,29) have mixed types. Specify dtype option on import or set low_memory=False.\n",
      "  df = pd.read_csv(file_path)\n"
     ]
    },
    {
     "name": "stdout",
     "output_type": "stream",
     "text": [
      "1936058136239.0\n",
      "193605814\n"
     ]
    },
    {
     "name": "stderr",
     "output_type": "stream",
     "text": [
      "/var/folders/6n/ftw0wdbd5m75711ncfzt7rlh0000gn/T/ipykernel_73549/372009823.py:14: DtypeWarning: Columns (1,2,3,4,5,6,7,8,9,10,11,12,13,14,15,16,17,18,19,20,21,22,23,24,25,26,27,28,29) have mixed types. Specify dtype option on import or set low_memory=False.\n",
      "  df = pd.read_csv(file_path)\n"
     ]
    },
    {
     "name": "stdout",
     "output_type": "stream",
     "text": [
      "773747686501.0\n",
      "77374769\n"
     ]
    },
    {
     "name": "stderr",
     "output_type": "stream",
     "text": [
      "/var/folders/6n/ftw0wdbd5m75711ncfzt7rlh0000gn/T/ipykernel_73549/372009823.py:14: DtypeWarning: Columns (1,2,3,4,5,6,7,8,9,10,11,12,13,14,15,16,17,18,19,20,21,22,23,24,25,26,27,28,29) have mixed types. Specify dtype option on import or set low_memory=False.\n",
      "  df = pd.read_csv(file_path)\n"
     ]
    },
    {
     "name": "stdout",
     "output_type": "stream",
     "text": [
      "414930894533.0\n",
      "41493090\n"
     ]
    },
    {
     "name": "stderr",
     "output_type": "stream",
     "text": [
      "/var/folders/6n/ftw0wdbd5m75711ncfzt7rlh0000gn/T/ipykernel_73549/372009823.py:14: DtypeWarning: Columns (1,2,3,4,5,6,7,8,9,10,11,12,13,14,15,16,17,18,19,20,21,22,23,24,25,26,27,28,29) have mixed types. Specify dtype option on import or set low_memory=False.\n",
      "  df = pd.read_csv(file_path)\n"
     ]
    },
    {
     "name": "stdout",
     "output_type": "stream",
     "text": [
      "758203343185.0\n",
      "75820335\n"
     ]
    },
    {
     "name": "stderr",
     "output_type": "stream",
     "text": [
      "/var/folders/6n/ftw0wdbd5m75711ncfzt7rlh0000gn/T/ipykernel_73549/372009823.py:14: DtypeWarning: Columns (1,2,3,4,5,6,7,8,9,10,11,12,13,14,15,16,17,18,19,20,21,22,23,24,25,26,27,28,29) have mixed types. Specify dtype option on import or set low_memory=False.\n",
      "  df = pd.read_csv(file_path)\n"
     ]
    },
    {
     "name": "stdout",
     "output_type": "stream",
     "text": [
      "733926031153.0\n",
      "73392604\n"
     ]
    },
    {
     "name": "stderr",
     "output_type": "stream",
     "text": [
      "/var/folders/6n/ftw0wdbd5m75711ncfzt7rlh0000gn/T/ipykernel_73549/372009823.py:14: DtypeWarning: Columns (1,2,3,4,5,6,7,8,9,10,11,12,13,14,15,16,17,18,19,20,21,22,23,24,25,26,27,28,29) have mixed types. Specify dtype option on import or set low_memory=False.\n",
      "  df = pd.read_csv(file_path)\n"
     ]
    },
    {
     "name": "stdout",
     "output_type": "stream",
     "text": [
      "1607942508617.0\n",
      "160794251\n"
     ]
    },
    {
     "name": "stderr",
     "output_type": "stream",
     "text": [
      "/var/folders/6n/ftw0wdbd5m75711ncfzt7rlh0000gn/T/ipykernel_73549/372009823.py:14: DtypeWarning: Columns (1,2,3,4,5,6,7,8,9,10,11,12,13,14,15,16,17,18,19,20,21,22,23,24,25,26,27,28,29) have mixed types. Specify dtype option on import or set low_memory=False.\n",
      "  df = pd.read_csv(file_path)\n"
     ]
    },
    {
     "name": "stdout",
     "output_type": "stream",
     "text": [
      "1240116642209.0\n",
      "124011665\n"
     ]
    },
    {
     "name": "stderr",
     "output_type": "stream",
     "text": [
      "/var/folders/6n/ftw0wdbd5m75711ncfzt7rlh0000gn/T/ipykernel_73549/372009823.py:14: DtypeWarning: Columns (1,2,3,4,5,6,7,8,9,10,11,12,13,14,15,16,17,18,19,20,21,22,23,24,25,26,27,28,29) have mixed types. Specify dtype option on import or set low_memory=False.\n",
      "  df = pd.read_csv(file_path)\n"
     ]
    },
    {
     "name": "stdout",
     "output_type": "stream",
     "text": [
      "1503160549236.0\n",
      "150316055\n"
     ]
    },
    {
     "name": "stderr",
     "output_type": "stream",
     "text": [
      "/var/folders/6n/ftw0wdbd5m75711ncfzt7rlh0000gn/T/ipykernel_73549/372009823.py:14: DtypeWarning: Columns (1,2,3,4,5,6,7,8,9,10,11,12,13,14,15,16,17,18,19,20,21,22,23,24,25,26,27,28,29) have mixed types. Specify dtype option on import or set low_memory=False.\n",
      "  df = pd.read_csv(file_path)\n"
     ]
    },
    {
     "name": "stdout",
     "output_type": "stream",
     "text": [
      "2500846446596.0\n",
      "250084645\n"
     ]
    },
    {
     "name": "stderr",
     "output_type": "stream",
     "text": [
      "/var/folders/6n/ftw0wdbd5m75711ncfzt7rlh0000gn/T/ipykernel_73549/372009823.py:14: DtypeWarning: Columns (1,2,3,4,5,6,7,8,9,10,11,12,13,14,15,16,17,18,19,20,21,22,23,24,25,26,27,28,29) have mixed types. Specify dtype option on import or set low_memory=False.\n",
      "  df = pd.read_csv(file_path)\n"
     ]
    },
    {
     "name": "stdout",
     "output_type": "stream",
     "text": [
      "1270841373203.0\n",
      "127084138\n"
     ]
    },
    {
     "name": "stderr",
     "output_type": "stream",
     "text": [
      "/var/folders/6n/ftw0wdbd5m75711ncfzt7rlh0000gn/T/ipykernel_73549/372009823.py:14: DtypeWarning: Columns (1,2,3,4,5,6,7,8,9,10,11,12,13,14,15,16,17,18,19,20,21,22,23,24,25,26,27,28,29) have mixed types. Specify dtype option on import or set low_memory=False.\n",
      "  df = pd.read_csv(file_path)\n"
     ]
    },
    {
     "name": "stdout",
     "output_type": "stream",
     "text": [
      "766567321214.0\n",
      "76656733\n"
     ]
    },
    {
     "name": "stderr",
     "output_type": "stream",
     "text": [
      "/var/folders/6n/ftw0wdbd5m75711ncfzt7rlh0000gn/T/ipykernel_73549/372009823.py:14: DtypeWarning: Columns (1,2,3,4,5,6,7,8,9,10,11,12,13,14,15,16,17,18,19,20,21,22,23,24,25,26,27,28,29) have mixed types. Specify dtype option on import or set low_memory=False.\n",
      "  df = pd.read_csv(file_path)\n"
     ]
    },
    {
     "name": "stdout",
     "output_type": "stream",
     "text": [
      "960073559711.0\n",
      "96007356\n"
     ]
    },
    {
     "name": "stderr",
     "output_type": "stream",
     "text": [
      "/var/folders/6n/ftw0wdbd5m75711ncfzt7rlh0000gn/T/ipykernel_73549/372009823.py:14: DtypeWarning: Columns (1,2,3,4,5,6,7,8,9,10,11,12,13,14,15,16,17,18,19,20,21,22,23,24,25,26,27,28,29) have mixed types. Specify dtype option on import or set low_memory=False.\n",
      "  df = pd.read_csv(file_path)\n"
     ]
    },
    {
     "name": "stdout",
     "output_type": "stream",
     "text": [
      "1133792678838.0\n",
      "113379268\n"
     ]
    },
    {
     "name": "stderr",
     "output_type": "stream",
     "text": [
      "/var/folders/6n/ftw0wdbd5m75711ncfzt7rlh0000gn/T/ipykernel_73549/372009823.py:14: DtypeWarning: Columns (1,2,3,4,5,6,7,8,9,10,11,12,13,14,15,16,17,18,19,20,21,22,23,24,25,26,27,28,29) have mixed types. Specify dtype option on import or set low_memory=False.\n",
      "  df = pd.read_csv(file_path)\n"
     ]
    },
    {
     "name": "stdout",
     "output_type": "stream",
     "text": [
      "1610700069137.0\n",
      "161070007\n"
     ]
    },
    {
     "name": "stderr",
     "output_type": "stream",
     "text": [
      "/var/folders/6n/ftw0wdbd5m75711ncfzt7rlh0000gn/T/ipykernel_73549/372009823.py:14: DtypeWarning: Columns (1,2,3,4,5,6,7,8,9,10,11,12,13,14,15,16,17,18,19,20,21,22,23,24,25,26,27,28,29) have mixed types. Specify dtype option on import or set low_memory=False.\n",
      "  df = pd.read_csv(file_path)\n"
     ]
    },
    {
     "name": "stdout",
     "output_type": "stream",
     "text": [
      "2342822433073.0\n",
      "234282244\n"
     ]
    },
    {
     "name": "stderr",
     "output_type": "stream",
     "text": [
      "/var/folders/6n/ftw0wdbd5m75711ncfzt7rlh0000gn/T/ipykernel_73549/372009823.py:14: DtypeWarning: Columns (1,2,3,4,5,6,7,8,9,10,11,12,13,14,15,16,17,18,19,20,21,22,23,24,25,26,27,28,29) have mixed types. Specify dtype option on import or set low_memory=False.\n",
      "  df = pd.read_csv(file_path)\n"
     ]
    },
    {
     "name": "stdout",
     "output_type": "stream",
     "text": [
      "486878334503.0\n",
      "48687834\n"
     ]
    },
    {
     "name": "stderr",
     "output_type": "stream",
     "text": [
      "/var/folders/6n/ftw0wdbd5m75711ncfzt7rlh0000gn/T/ipykernel_73549/372009823.py:14: DtypeWarning: Columns (1,2,3,4,5,6,7,8,9,10,11,12,13,14,15,16,17,18,19,20,21,22,23,24,25,26,27,28,29) have mixed types. Specify dtype option on import or set low_memory=False.\n",
      "  df = pd.read_csv(file_path)\n"
     ]
    },
    {
     "name": "stdout",
     "output_type": "stream",
     "text": [
      "1003502071245.0\n",
      "100350208\n"
     ]
    },
    {
     "name": "stderr",
     "output_type": "stream",
     "text": [
      "/var/folders/6n/ftw0wdbd5m75711ncfzt7rlh0000gn/T/ipykernel_73549/372009823.py:14: DtypeWarning: Columns (1,2,3,4,5,6,7,8,9,10,11,12,13,14,15,16,17,18,19,20,21,22,23,24,25,26,27,28,29) have mixed types. Specify dtype option on import or set low_memory=False.\n",
      "  df = pd.read_csv(file_path)\n"
     ]
    },
    {
     "name": "stdout",
     "output_type": "stream",
     "text": [
      "886700243593.0\n",
      "88670025\n"
     ]
    },
    {
     "name": "stderr",
     "output_type": "stream",
     "text": [
      "/var/folders/6n/ftw0wdbd5m75711ncfzt7rlh0000gn/T/ipykernel_73549/372009823.py:14: DtypeWarning: Columns (8,18,19) have mixed types. Specify dtype option on import or set low_memory=False.\n",
      "  df = pd.read_csv(file_path)\n"
     ]
    },
    {
     "name": "stdout",
     "output_type": "stream",
     "text": [
      "1154250394937.0\n",
      "115425040\n"
     ]
    },
    {
     "name": "stderr",
     "output_type": "stream",
     "text": [
      "/var/folders/6n/ftw0wdbd5m75711ncfzt7rlh0000gn/T/ipykernel_73549/372009823.py:14: DtypeWarning: Columns (1,2,3,4,5,6,7,8,9,10,11,12,13,14,15,16,17,18,19,20,21,22,23,24,25,26,27,28,29) have mixed types. Specify dtype option on import or set low_memory=False.\n",
      "  df = pd.read_csv(file_path)\n"
     ]
    },
    {
     "name": "stdout",
     "output_type": "stream",
     "text": [
      "2672821466996.0\n",
      "267282147\n"
     ]
    },
    {
     "name": "stderr",
     "output_type": "stream",
     "text": [
      "/var/folders/6n/ftw0wdbd5m75711ncfzt7rlh0000gn/T/ipykernel_73549/372009823.py:14: DtypeWarning: Columns (1,2,3,4,5,6,7,8,9,10,11,12,13,14,15,16,17,18,19,20,21,22,23,24,25,26,27,28,29) have mixed types. Specify dtype option on import or set low_memory=False.\n",
      "  df = pd.read_csv(file_path)\n"
     ]
    },
    {
     "name": "stdout",
     "output_type": "stream",
     "text": [
      "1194623428669.0\n",
      "119462343\n"
     ]
    },
    {
     "name": "stderr",
     "output_type": "stream",
     "text": [
      "/var/folders/6n/ftw0wdbd5m75711ncfzt7rlh0000gn/T/ipykernel_73549/372009823.py:14: DtypeWarning: Columns (1,2,3,4,5,6,7,8,9,10,11,12,13,14,15,16,17,18,19,20,21,22,23,24,25,26,27,28,29) have mixed types. Specify dtype option on import or set low_memory=False.\n",
      "  df = pd.read_csv(file_path)\n"
     ]
    },
    {
     "name": "stdout",
     "output_type": "stream",
     "text": [
      "630065970005.0\n",
      "63006598\n"
     ]
    },
    {
     "name": "stderr",
     "output_type": "stream",
     "text": [
      "/var/folders/6n/ftw0wdbd5m75711ncfzt7rlh0000gn/T/ipykernel_73549/372009823.py:14: DtypeWarning: Columns (1,2,3,4,5,6,7,8,9,10,11,12,13,14,15,16,17,18,19,20,21,22,23,24,25,26,27,28,29) have mixed types. Specify dtype option on import or set low_memory=False.\n",
      "  df = pd.read_csv(file_path)\n"
     ]
    },
    {
     "name": "stdout",
     "output_type": "stream",
     "text": [
      "573666026680.0\n",
      "57366603\n"
     ]
    },
    {
     "name": "stderr",
     "output_type": "stream",
     "text": [
      "/var/folders/6n/ftw0wdbd5m75711ncfzt7rlh0000gn/T/ipykernel_73549/372009823.py:14: DtypeWarning: Columns (1,2,3,4,5,6,7,8,10,11,12,13,14,16,17,18,19,20,21,22,24,25,26,27,29) have mixed types. Specify dtype option on import or set low_memory=False.\n",
      "  df = pd.read_csv(file_path)\n"
     ]
    },
    {
     "name": "stdout",
     "output_type": "stream",
     "text": [
      "2031166010414.0\n",
      "203116602\n",
      "788020230751.0\n",
      "78802024\n"
     ]
    },
    {
     "name": "stderr",
     "output_type": "stream",
     "text": [
      "/var/folders/6n/ftw0wdbd5m75711ncfzt7rlh0000gn/T/ipykernel_73549/372009823.py:14: DtypeWarning: Columns (6,7,8,9,11,12,14,15,16,17,18,22,24,25,27,28,29) have mixed types. Specify dtype option on import or set low_memory=False.\n",
      "  df = pd.read_csv(file_path)\n"
     ]
    },
    {
     "name": "stdout",
     "output_type": "stream",
     "text": [
      "588627566618.0\n",
      "58862757\n"
     ]
    },
    {
     "name": "stderr",
     "output_type": "stream",
     "text": [
      "/var/folders/6n/ftw0wdbd5m75711ncfzt7rlh0000gn/T/ipykernel_73549/372009823.py:14: DtypeWarning: Columns (1,2,3,4,5,6,8,9,11,13,14,15,17,18,19,21,22,23,24,25,26,27,28,29) have mixed types. Specify dtype option on import or set low_memory=False.\n",
      "  df = pd.read_csv(file_path)\n"
     ]
    },
    {
     "name": "stdout",
     "output_type": "stream",
     "text": [
      "664062936199.0\n",
      "66406294\n"
     ]
    },
    {
     "name": "stderr",
     "output_type": "stream",
     "text": [
      "/var/folders/6n/ftw0wdbd5m75711ncfzt7rlh0000gn/T/ipykernel_73549/372009823.py:14: DtypeWarning: Columns (1,2,4,8,9,14,20,22,23,28,29) have mixed types. Specify dtype option on import or set low_memory=False.\n",
      "  df = pd.read_csv(file_path)\n"
     ]
    },
    {
     "name": "stdout",
     "output_type": "stream",
     "text": [
      "789233840573.0\n",
      "78923385\n",
      "1778982954606.0\n",
      "177898296\n"
     ]
    },
    {
     "name": "stderr",
     "output_type": "stream",
     "text": [
      "/var/folders/6n/ftw0wdbd5m75711ncfzt7rlh0000gn/T/ipykernel_73549/372009823.py:14: DtypeWarning: Columns (1,2,13,19,23) have mixed types. Specify dtype option on import or set low_memory=False.\n",
      "  df = pd.read_csv(file_path)\n"
     ]
    },
    {
     "name": "stdout",
     "output_type": "stream",
     "text": [
      "1398797024873.0\n",
      "139879703\n",
      "1694131353250.0\n",
      "169413136\n"
     ]
    },
    {
     "name": "stderr",
     "output_type": "stream",
     "text": [
      "/var/folders/6n/ftw0wdbd5m75711ncfzt7rlh0000gn/T/ipykernel_73549/372009823.py:14: DtypeWarning: Columns (4,6,9,14,18,23,26) have mixed types. Specify dtype option on import or set low_memory=False.\n",
      "  df = pd.read_csv(file_path)\n"
     ]
    },
    {
     "name": "stdout",
     "output_type": "stream",
     "text": [
      "2818161632914.0\n",
      "281816164\n",
      "1285081234933.0\n",
      "128508124\n",
      "1101113765838.0\n",
      "110111377\n",
      "876522334880.0\n",
      "87652234\n",
      "1294405613760.0\n",
      "129440562\n",
      "2092135104611.0\n",
      "209213511\n",
      "2634627308688.0\n",
      "263462731\n",
      "746589762732.0\n",
      "74658977\n",
      "1290706678362.0\n",
      "129070668\n"
     ]
    },
    {
     "name": "stderr",
     "output_type": "stream",
     "text": [
      "/var/folders/6n/ftw0wdbd5m75711ncfzt7rlh0000gn/T/ipykernel_73549/372009823.py:14: DtypeWarning: Columns (1,2,4,5,7,8,9,10,11,12,13,15,16,17,18,19,21,22,23,24,25,26,27,28,29) have mixed types. Specify dtype option on import or set low_memory=False.\n",
      "  df = pd.read_csv(file_path)\n"
     ]
    },
    {
     "name": "stdout",
     "output_type": "stream",
     "text": [
      "941214576609.0\n",
      "94121458\n"
     ]
    },
    {
     "name": "stderr",
     "output_type": "stream",
     "text": [
      "/var/folders/6n/ftw0wdbd5m75711ncfzt7rlh0000gn/T/ipykernel_73549/372009823.py:14: DtypeWarning: Columns (1,2,3,4,5,6,7,8,9,10,11,12,13,14,15,16,17,18,19,20,21,22,23,24,25,26,27,28,29) have mixed types. Specify dtype option on import or set low_memory=False.\n",
      "  df = pd.read_csv(file_path)\n"
     ]
    },
    {
     "name": "stdout",
     "output_type": "stream",
     "text": [
      "1065507044695.0\n",
      "106550705\n"
     ]
    },
    {
     "name": "stderr",
     "output_type": "stream",
     "text": [
      "/var/folders/6n/ftw0wdbd5m75711ncfzt7rlh0000gn/T/ipykernel_73549/372009823.py:14: DtypeWarning: Columns (1,2,3,4,5,6,7,8,9,10,11,12,13,14,15,16,17,18,19,20,21,22,23,24,25,26,27,28,29) have mixed types. Specify dtype option on import or set low_memory=False.\n",
      "  df = pd.read_csv(file_path)\n"
     ]
    },
    {
     "name": "stdout",
     "output_type": "stream",
     "text": [
      "3044613869471.0\n",
      "304461387\n",
      "1341739810464.0\n",
      "134173982\n",
      "908746960707.0\n",
      "90874697\n",
      "836225938014.0\n",
      "83622594\n",
      "3243\n",
      "3243\n",
      "IPC values have been written to 'ipc_values.csv'.\n",
      "Ensemble R² value: 0.7507280274220363\n",
      "Predicted vs Actual values have been written to 'predicted_vs_actual.csv'.\n"
     ]
    },
    {
     "data": {
      "image/png": "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",
      "text/plain": [
       "<Figure size 1000x600 with 1 Axes>"
      ]
     },
     "metadata": {},
     "output_type": "display_data"
    }
   ],
   "source": [
    "import pandas as pd          \n",
    "import math\n",
    "import matplotlib.pyplot as plt        \n",
    "from sklearn.model_selection import train_test_split  \n",
    "from sklearn.ensemble import RandomForestRegressor, GradientBoostingRegressor, VotingRegressor \n",
    "from sklearn.metrics import r2_score     \n",
    "\n",
    "def process_csv(file_paths):\n",
    "    # Initialize lists to store IPC values from each file\n",
    "    all_ipc_values = []\n",
    "\n",
    "    for file_path in file_paths:\n",
    "        # Load the CSV file\n",
    "        df = pd.read_csv(file_path)\n",
    "        \n",
    "        # Replace all non-numeric values with 0\n",
    "        df = df.apply(pd.to_numeric, errors='coerce').fillna(0)\n",
    "        \n",
    "        # Calculate the number of instructions for 0.1%\n",
    "        instruction_sum = df['instruction'].sum()\n",
    "        inst_per_chunk = int(math.ceil(instruction_sum * 0.0001))\n",
    "\n",
    "        inst_chunk_num = 0\n",
    "        inst_chunk_end = inst_chunk_num * inst_per_chunk\n",
    "        chunk_inst_value = 0\n",
    "        chunk_cycle_value = 0\n",
    "        ipc = 0\n",
    "\n",
    "        ipc_values = []\n",
    "        instruction_sums = []\n",
    "        cpu_cycle_sums = []\n",
    "\n",
    "        for start_row in range(0, len(df)):\n",
    "            end_row = min(start_row + 1, len(df))\n",
    "            chunk = df.iloc[start_row:end_row]\n",
    "            chunk_inst_value += chunk['instruction'].sum()\n",
    "            chunk_cycle_value += chunk['cpu-cycle'].sum()\n",
    "\n",
    "            if chunk_inst_value >= inst_chunk_end:\n",
    "                # Save instruction and cpu cycle counts\n",
    "                instruction_sums.append(chunk_inst_value)\n",
    "                cpu_cycle_sums.append(chunk_cycle_value)\n",
    "\n",
    "                # Calculate IPC\n",
    "                if chunk_cycle_value != 0:\n",
    "                    ipc = chunk_inst_value / chunk_cycle_value\n",
    "                else:\n",
    "                    ipc = 0 \n",
    "                ipc_values.append(ipc)\n",
    "                \n",
    "                chunk_inst_value = 0\n",
    "                chunk_cycle_value = 0\n",
    "                inst_chunk_num += 1\n",
    "                inst_chunk_end = inst_chunk_num * inst_per_chunk\n",
    "                \n",
    "        all_ipc_values.append(ipc_values)\n",
    "                \n",
    "        '''\n",
    "        total_rows = len(df)\n",
    "        print(total_rows)\n",
    "        rows_per_chunk = int(math.ceil(total_rows * 0.001))\n",
    "        print(rows_per_chunk)\n",
    "        \n",
    "        # Initialize lists to store the sums for each 0.5% chunk and the IPC values\n",
    "        instruction_sums = []\n",
    "        cpu_cycle_sums = []\n",
    "        ipc_values = []\n",
    "        \n",
    "        # Loop through the DataFrame in chunks of 0.5%\n",
    "        for start_row in range(0, total_rows, rows_per_chunk):\n",
    "            # Select the current 0.5% chunk of rows\n",
    "            end_row = min(start_row + rows_per_chunk, total_rows)\n",
    "            chunk = df.iloc[start_row:end_row]\n",
>>>>>>> origin/new_branch
    "            \n",
    "#         all_features.extend(features)\n",
    "#     return all_features\n",
    "\n",
<<<<<<< HEAD
    "\n",
    "# def process_csv_ipc(file_paths):\n",
    "#     all_ipc_values = []\n",
    "#     for file_path in file_paths:\n",
    "#         df = pd.read_csv(file_path)\n",
    "#         df = df.apply(pd.to_numeric, errors='coerce').fillna(0)\n",
    "#         for _, row in df.iterrows():\n",
    "#             all_ipc_values.append(row['instruction'] / row['cpu-cycle'])  \n",
    "#     return all_ipc_values\n",
    "\n",
=======
    "        all_ipc_values.append(ipc_values)\n",
    "        '''\n",
    "    # Return IPC values for all files\n",
    "    return all_ipc_values\n",
    "\n",
    "# List of CSV files for In Order and Out of Order\n",
    "#in_order_files = ['InO_500.csv', 'InO_502.csv', 'InO_505.csv', 'InO_520.csv', 'InO_523.csv', 'InO_525.csv', 'InO_531.csv', 'InO_541.csv', 'InO_548.csv', 'InO_557.csv']\n",
    "#out_of_order_files = ['OOO_500.csv', 'OOO_502.csv', 'OOO_505.csv', 'OOO_520.csv', 'OOO_523.csv', 'OOO_525.csv', 'OOO_531.csv', 'OOO_541.csv', 'OOO_548.csv', 'OOO_557.csv']\n",
    "\n",
    "#in_order_files = ['InO_503.csv', 'InO_507.csv', 'InO_508.csv', 'InO_510.csv', 'InO_511.csv', 'InO_519.csv', 'InO_521.csv', 'InO_526.csv', 'InO_527.csv', 'InO_538.csv', 'InO_544.csv', 'InO_549.csv', 'InO_554.csv']\n",
    "#out_of_order_files = ['OOO_503.csv', 'OOO_507.csv', 'OOO_508.csv', 'OOO_510.csv', 'OOO_511.csv', 'OOO_519.csv', 'OOO_521.csv', 'OOO_526.csv', 'OOO_527.csv', 'OOO_538.csv', 'OOO_544.csv', 'OOO_549.csv', 'OOO_554.csv']\n",
    "\n",
    "in_order_files = ['InO_500.csv', 'InO_502.csv', 'InO_505.csv', 'InO_520.csv', 'InO_523.csv', 'InO_525.csv', 'InO_531.csv', 'InO_541.csv', 'InO_548.csv', 'InO_557.csv','InO_503.csv', 'InO_507.csv', 'InO_508.csv', 'InO_510.csv', 'InO_511.csv', 'InO_519.csv', 'InO_521.csv', 'InO_526.csv', 'InO_527.csv', 'InO_538.csv', 'InO_544.csv', 'InO_549.csv', 'InO_554.csv']\n",
    "out_of_order_files = ['OOO_500.csv', 'OOO_502.csv', 'OOO_505.csv', 'OOO_520.csv', 'OOO_523.csv', 'OOO_525.csv', 'OOO_531.csv', 'OOO_541.csv', 'OOO_548.csv', 'OOO_557.csv','OOO_503.csv', 'OOO_507.csv', 'OOO_508.csv', 'OOO_510.csv', 'OOO_511.csv', 'OOO_519.csv', 'OOO_521.csv', 'OOO_526.csv', 'OOO_527.csv', 'OOO_538.csv', 'OOO_544.csv', 'OOO_549.csv', 'OOO_554.csv']\n",
>>>>>>> origin/new_branch
    "\n",
    "# in_order_files = [\n",
    "#     'inst_aligned_In Order 500.csv.csv',\n",
    "#     'inst_aligned_In Order 502.csv.csv',\n",
    "#     'inst_aligned_In Order 503.csv.csv',\n",
    "#     'inst_aligned_In Order 505.csv.csv',\n",
    "#     'inst_aligned_In Order 519.csv.csv',\n",
    "#     'inst_aligned_In Order 520.csv.csv',\n",
    "#     'inst_aligned_In Order 523.csv.csv'\n",
    "# ]\n",
    "\n",
<<<<<<< HEAD
    "# out_of_order_files = [\n",
    "#     'inst_aligned_OO 500.csv.csv',\n",
    "#     'inst_aligned_OO 502.csv.csv',\n",
    "#     'inst_aligned_OO 503.csv.csv',\n",
    "#     'inst_aligned_OO 505.csv.csv',\n",
    "#     'inst_aligned_OO 519.csv.csv',\n",
    "#     'inst_aligned_OO 520.csv.csv',\n",
    "#     'inst_aligned_OO 523.csv.csv'\n",
    "# ]    \n",
    "\n",
    "    \n",
    "# in_order_hardware_counters_features = process_csv_feautures(in_order_files)\n",
    "# out_of_order_ipc = process_csv_ipc(out_of_order_files)\n",
=======
    "\n",
    "# Flatten the results if multiple files are provided\n",
    "result1_flat = [item for sublist in result1 for item in sublist]\n",
    "result2_flat = [item for sublist in result2 for item in sublist]\n",
    "\n",
    "print(len(result1_flat))\n",
    "print(len(result2_flat))\n",
    "\n",
    "# Create a new DataFrame to hold the IPC values with appropriate labels\n",
    "data = {\n",
    "    'In Order': result1_flat,\n",
    "    'Out of Order': result2_flat\n",
    "}\n",
>>>>>>> origin/new_branch
    "\n",
    "\n",
    "# # \n",
    "# data = {\n",
    "#     'In Order': in_order_hardware_counters_features,\n",
    "#     'Out of Order': out_of_order_ipc\n",
    "# }\n",
    "\n",
    "# length = min(len(in_order_hardware_counters_features), len(out_of_order_ipc))\n",
    "\n",
    "# # Shorten the longen array\n",
    "# in_order_hardware_counters_features = in_order_hardware_counters_features[:length]\n",
    "# out_of_order_ipc = out_of_order_ipc[:length]\n",
    "\n",
    "\n",
    "\n",
    "# # separate features and target\n",
    "# X = pd.DataFrame(in_order_hardware_counters_features, columns=['armv8_pmuv3/stall_backen', 'armv8_pmuv3/br_mis_pre', 'armv8_pmuv3/l2d_cache_refil', 'armv8_pmuv3/l1i_cache_refil', 'armv8_pmuv3/inst_retire', 'armv8_pmuv3/br_retire', 'armv8_pmuv3/l1d_cache_refil', 'ipc'])  # Features\n",
    "# y = pd.Series(out_of_order_ipc) \n",
    "\n",
    "\n",
    "\n",
    "\n",
    "# # # split \n",
    "# # X_train, X_test, y_train, y_test = train_test_split(X, y, test_size=0.2, random_state=42)\n",
    "\n",
    "# # rf_model = RandomForestRegressor(n_estimators=100)\n",
    "# # gb_model = GradientBoostingRegressor(n_estimators=100)\n",
    "# # ensemble_model = VotingRegressor([('rf', rf_model), ('gb', gb_model)])\n",
    "# # ensemble_model.fit(X_train, y_train)\n",
    "# # ensemble_predictions = ensemble_model.predict(X_test)\n",
    "# # # Calculate R²\n",
    "# # ensemble_r2 = r2_score(y_test, ensemble_predictions)\n",
    "\n",
    "\n",
    "# # #bruh wut\n",
    "# # train_predictions = ensemble_model.predict(X_train)\n",
    "# # test_predictions = ensemble_model.predict(X_test)\n",
    "\n",
    "# # # Calculate R² for training and testing sets\n",
    "# # train_r2 = r2_score(y_train, train_predictions)\n",
    "# # test_r2 = r2_score(y_test, test_predictions)\n",
    "\n",
    "# # print(f\"Training R²: {train_r2}\")\n",
    "# # print(f\"Testing R²: {test_r2}\")\n",
    "\n",
    "\n",
    "\n",
    "\n",
    "# # # Create a DataFrame for Actual and Predicted values\n",
    "# # results_df = pd.DataFrame({\n",
    "# #     'In Order IPC': X_test['ipc'],\n",
    "# #     'L2D Cache Refil Value': X_test['armv8_pmuv3/l2d_cache_refil'],\n",
    "# #     'L1D Cache Refil Value': X_test['armv8_pmuv3/l1d_cache_refil'],\n",
    "# #     'L1I Cache Refil Value': X_test['armv8_pmuv3/l1i_cache_refil'],\n",
    "# #     'Inst Retire': X_test['armv8_pmuv3/inst_retire'],\n",
    "# #     'Branch Retire': X_test['armv8_pmuv3/br_retire'],\n",
    "# #     'Out of Order IPC (Actual)': y_test,\n",
    "# #     'Out of Order IPC (Predicted)': ensemble_predictions\n",
    "# # })\n",
    "\n",
    "# # results_df.to_csv('predicted_vs_actual_aligned.csv', index=False)\n",
    "# # print(\"Predicted vs Actual values have been written to 'predicted_vs_actual_aligned.csv'.\")\n"
   ]
  },
  {
   "cell_type": "code",
   "execution_count": null,
   "id": "204e226c-2b4e-43be-a9f9-585189e79cb9",
   "metadata": {},
   "outputs": [],
   "source": []
  },
  {
   "cell_type": "code",
   "execution_count": null,
   "id": "1a0a37a4-1863-4fd4-b1e6-e36377461513",
   "metadata": {},
   "outputs": [],
   "source": []
  }
 ],
 "metadata": {
  "kernelspec": {
   "display_name": ".venv",
   "language": "python",
   "name": ".venv"
  },
  "language_info": {
   "codemirror_mode": {
    "name": "ipython",
    "version": 3
   },
   "file_extension": ".py",
   "mimetype": "text/x-python",
   "name": "python",
   "nbconvert_exporter": "python",
   "pygments_lexer": "ipython3",
   "version": "3.12.7"
  }
 },
 "nbformat": 4,
 "nbformat_minor": 5
}

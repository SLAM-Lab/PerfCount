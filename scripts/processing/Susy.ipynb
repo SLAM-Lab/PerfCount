{
 "cells": [
  {
   "cell_type": "code",
   "execution_count": 5,
   "metadata": {},
   "outputs": [],
   "source": [
    "import sys\n",
    "import os\n",
    "import pandas as pd\n",
    "sys.path.append('../')\n",
    "from utils.traces import get_df_without_per_core\n",
    "\n",
    "os.listdir('../../')\n",
    "bm = '520_0'\n",
    "file = '/home/local/prowl/esalcort/proactive-runtime/3.0GHz/x86_desktop_homogeneous_3.0GHz_' + bm"
   ]
  },
  {
   "cell_type": "code",
   "execution_count": 7,
   "metadata": {},
   "outputs": [
    {
     "name": "stderr",
     "output_type": "stream",
     "text": [
      "/home/local/prowl/esalcort/proactive-runtime/scripts/processing/../utils/traces.py:134: DtypeWarning: Columns (1) have mixed types. Specify dtype option on import or set low_memory=False.\n",
      "  df = pd.read_csv(\n"
     ]
    }
   ],
   "source": [
    "df = get_df_without_per_core(file)\n",
    "output_name = '/home/local/prowl/esalcort/phase-aware_pmu_forecasting/Data/x86_homogeneous_3GHz/' + bm + '.csv'\n",
    "df.to_csv(output_name, index=False)"
   ]
  }
 ],
 "metadata": {
  "kernelspec": {
   "display_name": "pawf",
   "language": "python",
   "name": "python3"
  },
  "language_info": {
   "codemirror_mode": {
    "name": "ipython",
    "version": 3
   },
   "file_extension": ".py",
   "mimetype": "text/x-python",
   "name": "python",
   "nbconvert_exporter": "python",
   "pygments_lexer": "ipython3",
   "version": "3.10.13"
  }
 },
 "nbformat": 4,
 "nbformat_minor": 2
}

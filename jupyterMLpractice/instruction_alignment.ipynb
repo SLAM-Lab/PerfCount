{
 "cells": [
  {
   "cell_type": "code",
   "execution_count": 1,
   "id": "1facd7ae-6d7b-43b0-a216-e69c6e60f8bb",
   "metadata": {},
   "outputs": [
    {
     "name": "stderr",
     "output_type": "stream",
     "text": [
      "/var/folders/6n/ftw0wdbd5m75711ncfzt7rlh0000gn/T/ipykernel_7142/883010374.py:14: DtypeWarning: Columns (1,2,3,4,5,6,7,8,9,10,11,12,13,14,15,16,17,18,19,20,21,22,23,24,25,26,27,28,29) have mixed types. Specify dtype option on import or set low_memory=False.\n",
      "  df = pd.read_csv(file_path)\n"
     ]
    },
    {
     "name": "stdout",
     "output_type": "stream",
     "text": [
      "1936058136239.0\n",
      "193605814\n",
      "1936058136239.0\n"
     ]
    },
    {
     "name": "stderr",
     "output_type": "stream",
     "text": [
      "/var/folders/6n/ftw0wdbd5m75711ncfzt7rlh0000gn/T/ipykernel_7142/883010374.py:14: DtypeWarning: Columns (1,2,3,4,5,6,7,8,9,10,11,12,13,14,15,16,17,18,19,20,21,22,23,24,25,26,27,28,29) have mixed types. Specify dtype option on import or set low_memory=False.\n",
      "  df = pd.read_csv(file_path)\n"
     ]
    },
    {
     "name": "stdout",
     "output_type": "stream",
     "text": [
      "773747686501.0\n",
      "77374769\n",
      "773747686501.0\n"
     ]
    },
    {
     "name": "stderr",
     "output_type": "stream",
     "text": [
      "/var/folders/6n/ftw0wdbd5m75711ncfzt7rlh0000gn/T/ipykernel_7142/883010374.py:14: DtypeWarning: Columns (1,2,3,4,5,6,7,8,9,10,11,12,13,14,15,16,17,18,19,20,21,22,23,24,25,26,27,28,29) have mixed types. Specify dtype option on import or set low_memory=False.\n",
      "  df = pd.read_csv(file_path)\n"
     ]
    },
    {
     "name": "stdout",
     "output_type": "stream",
     "text": [
      "414930894533.0\n",
      "41493090\n",
      "414930894533.0\n"
     ]
    },
    {
     "name": "stderr",
     "output_type": "stream",
     "text": [
      "/var/folders/6n/ftw0wdbd5m75711ncfzt7rlh0000gn/T/ipykernel_7142/883010374.py:14: DtypeWarning: Columns (1,2,3,4,5,6,7,8,9,10,11,12,13,14,15,16,17,18,19,20,21,22,23,24,25,26,27,28,29) have mixed types. Specify dtype option on import or set low_memory=False.\n",
      "  df = pd.read_csv(file_path)\n"
     ]
    },
    {
     "name": "stdout",
     "output_type": "stream",
     "text": [
      "758203343185.0\n",
      "75820335\n",
      "758203343185.0\n"
     ]
    },
    {
     "name": "stderr",
     "output_type": "stream",
     "text": [
      "/var/folders/6n/ftw0wdbd5m75711ncfzt7rlh0000gn/T/ipykernel_7142/883010374.py:14: DtypeWarning: Columns (1,2,3,4,5,6,7,8,9,10,11,12,13,14,15,16,17,18,19,20,21,22,23,24,25,26,27,28,29) have mixed types. Specify dtype option on import or set low_memory=False.\n",
      "  df = pd.read_csv(file_path)\n"
     ]
    },
    {
     "name": "stdout",
     "output_type": "stream",
     "text": [
      "733926031153.0\n",
      "73392604\n",
      "733926031153.0\n"
     ]
    },
    {
     "name": "stderr",
     "output_type": "stream",
     "text": [
      "/var/folders/6n/ftw0wdbd5m75711ncfzt7rlh0000gn/T/ipykernel_7142/883010374.py:14: DtypeWarning: Columns (1,2,3,4,5,6,7,8,9,10,11,12,13,14,15,16,17,18,19,20,21,22,23,24,25,26,27,28,29) have mixed types. Specify dtype option on import or set low_memory=False.\n",
      "  df = pd.read_csv(file_path)\n"
     ]
    },
    {
     "name": "stdout",
     "output_type": "stream",
     "text": [
      "1607942508617.0\n",
      "160794251\n",
      "1607942508617.0\n"
     ]
    },
    {
     "name": "stderr",
     "output_type": "stream",
     "text": [
      "/var/folders/6n/ftw0wdbd5m75711ncfzt7rlh0000gn/T/ipykernel_7142/883010374.py:14: DtypeWarning: Columns (1,2,3,4,5,6,7,8,9,10,11,12,13,14,15,16,17,18,19,20,21,22,23,24,25,26,27,28,29) have mixed types. Specify dtype option on import or set low_memory=False.\n",
      "  df = pd.read_csv(file_path)\n"
     ]
    },
    {
     "name": "stdout",
     "output_type": "stream",
     "text": [
      "1240116642209.0\n",
      "124011665\n",
      "1240116642209.0\n"
     ]
    },
    {
     "name": "stderr",
     "output_type": "stream",
     "text": [
      "/var/folders/6n/ftw0wdbd5m75711ncfzt7rlh0000gn/T/ipykernel_7142/883010374.py:14: DtypeWarning: Columns (1,2,3,4,5,6,7,8,9,10,11,12,13,14,15,16,17,18,19,20,21,22,23,24,25,26,27,28,29) have mixed types. Specify dtype option on import or set low_memory=False.\n",
      "  df = pd.read_csv(file_path)\n"
     ]
    },
    {
     "name": "stdout",
     "output_type": "stream",
     "text": [
      "1503160549236.0\n",
      "150316055\n",
      "1503160549236.0\n"
     ]
    },
    {
     "name": "stderr",
     "output_type": "stream",
     "text": [
      "/var/folders/6n/ftw0wdbd5m75711ncfzt7rlh0000gn/T/ipykernel_7142/883010374.py:14: DtypeWarning: Columns (1,2,3,4,5,6,7,8,9,10,11,12,13,14,15,16,17,18,19,20,21,22,23,24,25,26,27,28,29) have mixed types. Specify dtype option on import or set low_memory=False.\n",
      "  df = pd.read_csv(file_path)\n"
     ]
    },
    {
     "name": "stdout",
     "output_type": "stream",
     "text": [
      "2500846446596.0\n",
      "250084645\n",
      "2500846446596.0\n"
     ]
    },
    {
     "name": "stderr",
     "output_type": "stream",
     "text": [
      "/var/folders/6n/ftw0wdbd5m75711ncfzt7rlh0000gn/T/ipykernel_7142/883010374.py:14: DtypeWarning: Columns (1,2,3,4,5,6,7,8,9,10,11,12,13,14,15,16,17,18,19,20,21,22,23,24,25,26,27,28,29) have mixed types. Specify dtype option on import or set low_memory=False.\n",
      "  df = pd.read_csv(file_path)\n"
     ]
    },
    {
     "name": "stdout",
     "output_type": "stream",
     "text": [
      "1270841373203.0\n",
      "127084138\n",
      "1270841373203.0\n"
     ]
    },
    {
     "name": "stderr",
     "output_type": "stream",
     "text": [
      "/var/folders/6n/ftw0wdbd5m75711ncfzt7rlh0000gn/T/ipykernel_7142/883010374.py:14: DtypeWarning: Columns (1,2,3,4,5,6,7,8,9,10,11,12,13,14,15,16,17,18,19,20,21,22,23,24,25,26,27,28,29) have mixed types. Specify dtype option on import or set low_memory=False.\n",
      "  df = pd.read_csv(file_path)\n"
     ]
    },
    {
     "name": "stdout",
     "output_type": "stream",
     "text": [
      "766567321214.0\n",
      "76656733\n",
      "766567321214.0\n"
     ]
    },
    {
     "name": "stderr",
     "output_type": "stream",
     "text": [
      "/var/folders/6n/ftw0wdbd5m75711ncfzt7rlh0000gn/T/ipykernel_7142/883010374.py:14: DtypeWarning: Columns (1,2,3,4,5,6,7,8,9,10,11,12,13,14,15,16,17,18,19,20,21,22,23,24,25,26,27,28,29) have mixed types. Specify dtype option on import or set low_memory=False.\n",
      "  df = pd.read_csv(file_path)\n"
     ]
    },
    {
     "name": "stdout",
     "output_type": "stream",
     "text": [
      "960073559711.0\n",
      "96007356\n",
      "960073559711.0\n"
     ]
    },
    {
     "name": "stderr",
     "output_type": "stream",
     "text": [
      "/var/folders/6n/ftw0wdbd5m75711ncfzt7rlh0000gn/T/ipykernel_7142/883010374.py:14: DtypeWarning: Columns (1,2,3,4,5,6,7,8,9,10,11,12,13,14,15,16,17,18,19,20,21,22,23,24,25,26,27,28,29) have mixed types. Specify dtype option on import or set low_memory=False.\n",
      "  df = pd.read_csv(file_path)\n"
     ]
    },
    {
     "name": "stdout",
     "output_type": "stream",
     "text": [
      "1133792678838.0\n",
      "113379268\n",
      "1133792678838.0\n"
     ]
    },
    {
     "name": "stderr",
     "output_type": "stream",
     "text": [
      "/var/folders/6n/ftw0wdbd5m75711ncfzt7rlh0000gn/T/ipykernel_7142/883010374.py:14: DtypeWarning: Columns (1,2,3,4,5,6,7,8,9,10,11,12,13,14,15,16,17,18,19,20,21,22,23,24,25,26,27,28,29) have mixed types. Specify dtype option on import or set low_memory=False.\n",
      "  df = pd.read_csv(file_path)\n"
     ]
    },
    {
     "name": "stdout",
     "output_type": "stream",
     "text": [
      "1610700069137.0\n",
      "161070007\n",
      "1610700069137.0\n"
     ]
    },
    {
     "name": "stderr",
     "output_type": "stream",
     "text": [
      "/var/folders/6n/ftw0wdbd5m75711ncfzt7rlh0000gn/T/ipykernel_7142/883010374.py:14: DtypeWarning: Columns (1,2,3,4,5,6,7,8,9,10,11,12,13,14,15,16,17,18,19,20,21,22,23,24,25,26,27,28,29) have mixed types. Specify dtype option on import or set low_memory=False.\n",
      "  df = pd.read_csv(file_path)\n"
     ]
    },
    {
     "name": "stdout",
     "output_type": "stream",
     "text": [
      "2342822433073.0\n",
      "234282244\n",
      "2342822433073.0\n"
     ]
    },
    {
     "name": "stderr",
     "output_type": "stream",
     "text": [
      "/var/folders/6n/ftw0wdbd5m75711ncfzt7rlh0000gn/T/ipykernel_7142/883010374.py:14: DtypeWarning: Columns (1,2,3,4,5,6,7,8,9,10,11,12,13,14,15,16,17,18,19,20,21,22,23,24,25,26,27,28,29) have mixed types. Specify dtype option on import or set low_memory=False.\n",
      "  df = pd.read_csv(file_path)\n"
     ]
    },
    {
     "name": "stdout",
     "output_type": "stream",
     "text": [
      "486878334503.0\n",
      "48687834\n",
      "486878334503.0\n"
     ]
    },
    {
     "name": "stderr",
     "output_type": "stream",
     "text": [
      "/var/folders/6n/ftw0wdbd5m75711ncfzt7rlh0000gn/T/ipykernel_7142/883010374.py:14: DtypeWarning: Columns (1,2,3,4,5,6,7,8,9,10,11,12,13,14,15,16,17,18,19,20,21,22,23,24,25,26,27,28,29) have mixed types. Specify dtype option on import or set low_memory=False.\n",
      "  df = pd.read_csv(file_path)\n"
     ]
    },
    {
     "name": "stdout",
     "output_type": "stream",
     "text": [
      "1003502071245.0\n",
      "100350208\n",
      "1003502071245.0\n"
     ]
    },
    {
     "name": "stderr",
     "output_type": "stream",
     "text": [
      "/var/folders/6n/ftw0wdbd5m75711ncfzt7rlh0000gn/T/ipykernel_7142/883010374.py:14: DtypeWarning: Columns (1,2,3,4,5,6,7,8,9,10,11,12,13,14,15,16,17,18,19,20,21,22,23,24,25,26,27,28,29) have mixed types. Specify dtype option on import or set low_memory=False.\n",
      "  df = pd.read_csv(file_path)\n"
     ]
    },
    {
     "name": "stdout",
     "output_type": "stream",
     "text": [
      "886700243593.0\n",
      "88670025\n",
      "886700243593.0\n"
     ]
    },
    {
     "name": "stderr",
     "output_type": "stream",
     "text": [
      "/var/folders/6n/ftw0wdbd5m75711ncfzt7rlh0000gn/T/ipykernel_7142/883010374.py:14: DtypeWarning: Columns (8,18,19) have mixed types. Specify dtype option on import or set low_memory=False.\n",
      "  df = pd.read_csv(file_path)\n"
     ]
    },
    {
     "name": "stdout",
     "output_type": "stream",
     "text": [
      "1154250394937.0\n",
      "115425040\n",
      "1154250394937.0\n"
     ]
    },
    {
     "name": "stderr",
     "output_type": "stream",
     "text": [
      "/var/folders/6n/ftw0wdbd5m75711ncfzt7rlh0000gn/T/ipykernel_7142/883010374.py:14: DtypeWarning: Columns (1,2,3,4,5,6,7,8,9,10,11,12,13,14,15,16,17,18,19,20,21,22,23,24,25,26,27,28,29) have mixed types. Specify dtype option on import or set low_memory=False.\n",
      "  df = pd.read_csv(file_path)\n"
     ]
    },
    {
     "name": "stdout",
     "output_type": "stream",
     "text": [
      "2672821466996.0\n",
      "267282147\n",
      "2672821466996.0\n"
     ]
    },
    {
     "name": "stderr",
     "output_type": "stream",
     "text": [
      "/var/folders/6n/ftw0wdbd5m75711ncfzt7rlh0000gn/T/ipykernel_7142/883010374.py:14: DtypeWarning: Columns (1,2,3,4,5,6,7,8,9,10,11,12,13,14,15,16,17,18,19,20,21,22,23,24,25,26,27,28,29) have mixed types. Specify dtype option on import or set low_memory=False.\n",
      "  df = pd.read_csv(file_path)\n"
     ]
    },
    {
     "name": "stdout",
     "output_type": "stream",
     "text": [
      "1194623428669.0\n",
      "119462343\n",
      "1194623428669.0\n"
     ]
    },
    {
     "name": "stderr",
     "output_type": "stream",
     "text": [
      "/var/folders/6n/ftw0wdbd5m75711ncfzt7rlh0000gn/T/ipykernel_7142/883010374.py:14: DtypeWarning: Columns (1,2,3,4,5,6,7,8,9,10,11,12,13,14,15,16,17,18,19,20,21,22,23,24,25,26,27,28,29) have mixed types. Specify dtype option on import or set low_memory=False.\n",
      "  df = pd.read_csv(file_path)\n"
     ]
    },
    {
     "name": "stdout",
     "output_type": "stream",
     "text": [
      "630065970005.0\n",
      "63006598\n",
      "630065970005.0\n"
     ]
    },
    {
     "name": "stderr",
     "output_type": "stream",
     "text": [
      "/var/folders/6n/ftw0wdbd5m75711ncfzt7rlh0000gn/T/ipykernel_7142/883010374.py:14: DtypeWarning: Columns (1,2,3,4,5,6,7,8,9,10,11,12,13,14,15,16,17,18,19,20,21,22,23,24,25,26,27,28,29) have mixed types. Specify dtype option on import or set low_memory=False.\n",
      "  df = pd.read_csv(file_path)\n"
     ]
    },
    {
     "name": "stdout",
     "output_type": "stream",
     "text": [
      "573666026680.0\n",
      "57366603\n",
      "573666026680.0\n"
     ]
    },
    {
     "name": "stderr",
     "output_type": "stream",
     "text": [
      "/var/folders/6n/ftw0wdbd5m75711ncfzt7rlh0000gn/T/ipykernel_7142/883010374.py:14: DtypeWarning: Columns (1,2,3,4,5,6,7,8,10,11,12,13,14,16,17,18,19,20,21,22,24,25,26,27,29) have mixed types. Specify dtype option on import or set low_memory=False.\n",
      "  df = pd.read_csv(file_path)\n"
     ]
    },
    {
     "name": "stdout",
     "output_type": "stream",
     "text": [
      "2031166010414.0\n",
      "203116602\n",
      "2031166010414.0\n",
      "788020230751.0\n",
      "78802024\n",
      "788020230751.0\n"
     ]
    },
    {
     "name": "stderr",
     "output_type": "stream",
     "text": [
      "/var/folders/6n/ftw0wdbd5m75711ncfzt7rlh0000gn/T/ipykernel_7142/883010374.py:14: DtypeWarning: Columns (6,7,8,9,11,12,14,15,16,17,18,22,24,25,27,28,29) have mixed types. Specify dtype option on import or set low_memory=False.\n",
      "  df = pd.read_csv(file_path)\n"
     ]
    },
    {
     "name": "stdout",
     "output_type": "stream",
     "text": [
      "588627566618.0\n",
      "58862757\n",
      "588627566618.0\n"
     ]
    },
    {
     "name": "stderr",
     "output_type": "stream",
     "text": [
      "/var/folders/6n/ftw0wdbd5m75711ncfzt7rlh0000gn/T/ipykernel_7142/883010374.py:14: DtypeWarning: Columns (1,2,3,4,5,6,8,9,11,13,14,15,17,18,19,21,22,23,24,25,26,27,28,29) have mixed types. Specify dtype option on import or set low_memory=False.\n",
      "  df = pd.read_csv(file_path)\n"
     ]
    },
    {
     "name": "stdout",
     "output_type": "stream",
     "text": [
      "664062936199.0\n",
      "66406294\n",
      "664062936199.0\n"
     ]
    },
    {
     "name": "stderr",
     "output_type": "stream",
     "text": [
      "/var/folders/6n/ftw0wdbd5m75711ncfzt7rlh0000gn/T/ipykernel_7142/883010374.py:14: DtypeWarning: Columns (1,2,4,8,9,14,20,22,23,28,29) have mixed types. Specify dtype option on import or set low_memory=False.\n",
      "  df = pd.read_csv(file_path)\n"
     ]
    },
    {
     "name": "stdout",
     "output_type": "stream",
     "text": [
      "789233840573.0\n",
      "78923385\n",
      "789233840573.0\n",
      "1778982954606.0\n",
      "177898296\n",
      "1778982954606.0\n"
     ]
    },
    {
     "name": "stderr",
     "output_type": "stream",
     "text": [
      "/var/folders/6n/ftw0wdbd5m75711ncfzt7rlh0000gn/T/ipykernel_7142/883010374.py:14: DtypeWarning: Columns (1,2,13,19,23) have mixed types. Specify dtype option on import or set low_memory=False.\n",
      "  df = pd.read_csv(file_path)\n"
     ]
    },
    {
     "name": "stdout",
     "output_type": "stream",
     "text": [
      "1398797024873.0\n",
      "139879703\n",
      "1398797024873.0\n",
      "1694131353250.0\n",
      "169413136\n",
      "1694131353250.0\n"
     ]
    },
    {
     "name": "stderr",
     "output_type": "stream",
     "text": [
      "/var/folders/6n/ftw0wdbd5m75711ncfzt7rlh0000gn/T/ipykernel_7142/883010374.py:14: DtypeWarning: Columns (4,6,9,14,18,23,26) have mixed types. Specify dtype option on import or set low_memory=False.\n",
      "  df = pd.read_csv(file_path)\n"
     ]
    },
    {
     "name": "stdout",
     "output_type": "stream",
     "text": [
      "2818161632914.0\n",
      "281816164\n",
      "2818161632914.0\n",
      "1285081234933.0\n",
      "128508124\n",
      "1285081234933.0\n",
      "1101113765838.0\n",
      "110111377\n",
      "1101113765838.0\n",
      "876522334880.0\n",
      "87652234\n",
      "876522334880.0\n",
      "1294405613760.0\n",
      "129440562\n",
      "1294405613760.0\n",
      "2092135104611.0\n",
      "209213511\n",
      "2092135104611.0\n",
      "2634627308688.0\n",
      "263462731\n",
      "2634627308688.0\n",
      "746589762732.0\n",
      "74658977\n",
      "746589762732.0\n",
      "1290706678362.0\n",
      "129070668\n",
      "1290706678362.0\n"
     ]
    },
    {
     "name": "stderr",
     "output_type": "stream",
     "text": [
      "/var/folders/6n/ftw0wdbd5m75711ncfzt7rlh0000gn/T/ipykernel_7142/883010374.py:14: DtypeWarning: Columns (1,2,4,5,7,8,9,10,11,12,13,15,16,17,18,19,21,22,23,24,25,26,27,28,29) have mixed types. Specify dtype option on import or set low_memory=False.\n",
      "  df = pd.read_csv(file_path)\n"
     ]
    },
    {
     "name": "stdout",
     "output_type": "stream",
     "text": [
      "941214576609.0\n",
      "94121458\n",
      "941214576609.0\n"
     ]
    },
    {
     "name": "stderr",
     "output_type": "stream",
     "text": [
      "/var/folders/6n/ftw0wdbd5m75711ncfzt7rlh0000gn/T/ipykernel_7142/883010374.py:14: DtypeWarning: Columns (1,2,3,4,5,6,7,8,9,10,11,12,13,14,15,16,17,18,19,20,21,22,23,24,25,26,27,28,29) have mixed types. Specify dtype option on import or set low_memory=False.\n",
      "  df = pd.read_csv(file_path)\n"
     ]
    },
    {
     "name": "stdout",
     "output_type": "stream",
     "text": [
      "1065507044695.0\n",
      "106550705\n",
      "1065507044695.0\n"
     ]
    },
    {
     "name": "stderr",
     "output_type": "stream",
     "text": [
      "/var/folders/6n/ftw0wdbd5m75711ncfzt7rlh0000gn/T/ipykernel_7142/883010374.py:14: DtypeWarning: Columns (1,2,3,4,5,6,7,8,9,10,11,12,13,14,15,16,17,18,19,20,21,22,23,24,25,26,27,28,29) have mixed types. Specify dtype option on import or set low_memory=False.\n",
      "  df = pd.read_csv(file_path)\n"
     ]
    },
    {
     "name": "stdout",
     "output_type": "stream",
     "text": [
      "3044613869471.0\n",
      "304461387\n",
      "3044613869471.0\n",
      "1341739810464.0\n",
      "134173982\n",
      "1341739810464.0\n",
      "908746960707.0\n",
      "90874697\n",
      "908746960707.0\n",
      "836225938014.0\n",
      "83622594\n",
      "836225938014.0\n"
     ]
    }
   ],
   "source": [
    "import pandas as pd          \n",
    "import math\n",
    "import matplotlib.pyplot as plt        \n",
    "from sklearn.model_selection import train_test_split  \n",
    "from sklearn.ensemble import RandomForestRegressor, GradientBoostingRegressor, VotingRegressor \n",
    "from sklearn.metrics import r2_score     \n",
    "\n",
    "def process_csv(file_paths):\n",
    "    # Initialize lists to store IPC values from each file\n",
    "    all_ipc_values = []\n",
    "\n",
    "    for file_path in file_paths:\n",
    "        # Load the CSV file\n",
    "        df = pd.read_csv(file_path)\n",
    "        \n",
    "        # Replace all non-numeric values with 0\n",
    "        df = df.apply(pd.to_numeric, errors='coerce').fillna(0)\n",
    "        \n",
    "        # Calculate the number of instructions for 0.01% of instructions\n",
    "        instruction_sum = df['instruction'].sum()\n",
    "        inst_per_chunk = int(math.ceil(instruction_sum * 0.0001))\n",
    "        \n",
    "        chunk_inst_value = 0\n",
    "        ipc_values = []\n",
    "        row_start = 0\n",
    "        \n",
    "        for start_row in range(0, len(df)):\n",
    "            chunk_inst_value += df.iloc[start_row]['instruction']\n",
    "            \n",
    "            if chunk_inst_value >= inst_per_chunk:\n",
    "                chunk_data = df.iloc[row_start:start_row].sum()\n",
    "                ipc_values.append(chunk_data)\n",
    "                chunk_inst_value = 0\n",
    "                row_start = start_row\n",
    "\n",
    "        \n",
    "        # Handle last chunk\n",
    "        chunk_data = df.iloc[row_start:len(df)].sum()\n",
    "        ipc_values.append(chunk_data)\n",
    "\n",
    "        # Create CSV\n",
    "        ipc_df = pd.DataFrame(ipc_values)\n",
    "        ipc_df.to_csv('inst_aligned_' + file_path + '.csv', index=False)\n",
    "    \n",
    "    # Return IPC values for all files\n",
    "    return all_ipc_values\n",
    "\n",
    "# List of CSV files for In Order and Out of Order\n",
    "in_order_files = ['InO_500.csv', 'InO_502.csv', 'InO_505.csv', 'InO_520.csv', 'InO_523.csv', 'InO_525.csv', 'InO_531.csv', 'InO_541.csv', 'InO_548.csv', 'InO_557.csv','InO_503.csv', 'InO_507.csv', 'InO_508.csv', 'InO_510.csv', 'InO_511.csv', 'InO_519.csv', 'InO_521.csv', 'InO_526.csv', 'InO_527.csv', 'InO_538.csv', 'InO_544.csv', 'InO_549.csv', 'InO_554.csv']\n",
    "out_of_order_files = ['OOO_500.csv', 'OOO_502.csv', 'OOO_505.csv', 'OOO_520.csv', 'OOO_523.csv', 'OOO_525.csv', 'OOO_531.csv', 'OOO_541.csv', 'OOO_548.csv', 'OOO_557.csv','OOO_503.csv', 'OOO_507.csv', 'OOO_508.csv', 'OOO_510.csv', 'OOO_511.csv', 'OOO_519.csv', 'OOO_521.csv', 'OOO_526.csv', 'OOO_527.csv', 'OOO_538.csv', 'OOO_544.csv', 'OOO_549.csv', 'OOO_554.csv']\n",
    "\n",
    "# Process the CSV files\n",
    "result1 = process_csv(in_order_files)  #In Order CSV files\n",
    "result2 = process_csv(out_of_order_files)  #Out of Order CSV files\n",
    "\n"
   ]
  }
 ],
 "metadata": {
  "kernelspec": {
   "display_name": ".venv",
   "language": "python",
   "name": ".venv"
  },
  "language_info": {
   "codemirror_mode": {
    "name": "ipython",
    "version": 3
   },
   "file_extension": ".py",
   "mimetype": "text/x-python",
   "name": "python",
   "nbconvert_exporter": "python",
   "pygments_lexer": "ipython3",
   "version": "3.12.7"
  }
 },
 "nbformat": 4,
 "nbformat_minor": 5
}
